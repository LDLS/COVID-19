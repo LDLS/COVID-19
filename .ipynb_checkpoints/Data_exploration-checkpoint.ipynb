{
 "cells": [
  {
   "cell_type": "code",
   "execution_count": 3,
   "metadata": {},
   "outputs": [
    {
     "data": {
      "text/plain": [
       "36"
      ]
     },
     "execution_count": 3,
     "metadata": {},
     "output_type": "execute_result"
    }
   ],
   "source": [
    "from pathlib import Path\n",
    "import numpy as np\n",
    "import pandas as pd\n",
    "from matplotlib import pyplot as plt\n",
    "import gc\n",
    "\n",
    "project_dir = Path()\n",
    "ts_dir = project_dir / 'csse_covid_19_data/csse_covid_19_time_series/'\n",
    "\n",
    "confirmed_ts_fn = {f.stem.split('_')[-1] + '_' + 'confirmed': \n",
    "                   f for f in ts_dir.rglob(\"*.csv\") if 'confirmed' in str(f)}\n",
    "deaths_ts_fn = {f.stem.split('_')[-1]+ '_' + 'deaths':\n",
    "                f for f in ts_dir.rglob(\"*.csv\") if 'deaths' in str(f)}\n",
    "ts_fn = {**confirmed_ts_fn, **deaths_ts_fn}\n",
    "\n",
    "ts = {k: pd.read_csv(v) for k, v in ts_fn.items()}\n",
    "rename_col_map = {'Province/State': 'Province_State',\n",
    "                  'Country/Region': 'Country_Region'}\n",
    "ts = {k: v.rename(mapper=rename_col_map, axis=1) for k, v in ts.items()}\n",
    "\n",
    "def get_date_cols(df, cols_keep):\n",
    "    cols = df.columns\n",
    "    date_qry = cols.str.match(r'\\d+/\\d+/\\d+')\n",
    "    date_cols = cols[date_qry]\n",
    "    return df[cols_keep + date_cols.tolist()]\n",
    "\n",
    "ts = {k: get_date_cols(v, ['Country_Region', 'Province_State']) for k, v in ts.items()}\n",
    "\n",
    "def fill_state(df):\n",
    "    df['Province_State'] = df['Province_State'].fillna(df['Country_Region'])\n",
    "    return df\n",
    "\n",
    "ts = {k: fill_state(v) for k, v in ts.items()}\n",
    "ts = {k: v.groupby(['Country_Region', 'Province_State']).sum() for k, v in ts.items()}\n",
    "\n",
    "confirmed = pd.concat([v for k, v in ts.items() if 'confirmed' in k]).sort_index().T\n",
    "deaths = pd.concat([v for k, v in ts.items() if 'deaths' in k]).sort_index().T\n",
    "del ts\n",
    "gc.collect()"
   ]
  },
  {
   "cell_type": "code",
   "execution_count": 54,
   "metadata": {},
   "outputs": [
    {
     "data": {
      "text/plain": [
       "(75,)"
      ]
     },
     "execution_count": 54,
     "metadata": {},
     "output_type": "execute_result"
    }
   ],
   "source": [
    "confirmed.columns[(confirmed > 5000).any()].shape"
   ]
  },
  {
   "cell_type": "code",
   "execution_count": 55,
   "metadata": {},
   "outputs": [
    {
     "data": {
      "text/plain": [
       "(27,)"
      ]
     },
     "execution_count": 55,
     "metadata": {},
     "output_type": "execute_result"
    }
   ],
   "source": [
    "deaths.columns[(deaths > 1000).any()].shape"
   ]
  },
  {
   "cell_type": "code",
   "execution_count": 35,
   "metadata": {},
   "outputs": [
    {
     "ename": "IndexError",
     "evalue": "boolean index did not match indexed array along dimension 0; dimension is 95 but corresponding boolean dimension is 322",
     "output_type": "error",
     "traceback": [
      "\u001b[1;31m---------------------------------------------------------------------------\u001b[0m",
      "\u001b[1;31mIndexError\u001b[0m                                Traceback (most recent call last)",
      "\u001b[1;32m<ipython-input-35-4ab162e98d65>\u001b[0m in \u001b[0;36m<module>\u001b[1;34m\u001b[0m\n\u001b[1;32m----> 1\u001b[1;33m \u001b[0mdeaths\u001b[0m\u001b[1;33m.\u001b[0m\u001b[0mloc\u001b[0m\u001b[1;33m[\u001b[0m\u001b[1;33m:\u001b[0m\u001b[1;33m,\u001b[0m \u001b[0mdeaths\u001b[0m\u001b[1;33m.\u001b[0m\u001b[0mindex\u001b[0m\u001b[1;33m[\u001b[0m\u001b[1;33m(\u001b[0m\u001b[0mdeaths\u001b[0m \u001b[1;33m>\u001b[0m \u001b[1;36m100\u001b[0m\u001b[1;33m)\u001b[0m\u001b[1;33m.\u001b[0m\u001b[0many\u001b[0m\u001b[1;33m(\u001b[0m\u001b[1;33m)\u001b[0m\u001b[1;33m]\u001b[0m\u001b[1;33m]\u001b[0m\u001b[1;33m\u001b[0m\u001b[1;33m\u001b[0m\u001b[0m\n\u001b[0m",
      "\u001b[1;32m~\\Anaconda3\\envs\\py36\\lib\\site-packages\\pandas\\core\\indexes\\base.py\u001b[0m in \u001b[0;36m__getitem__\u001b[1;34m(self, key)\u001b[0m\n\u001b[0;32m   3938\u001b[0m \u001b[1;33m\u001b[0m\u001b[0m\n\u001b[0;32m   3939\u001b[0m         \u001b[0mkey\u001b[0m \u001b[1;33m=\u001b[0m \u001b[0mcom\u001b[0m\u001b[1;33m.\u001b[0m\u001b[0mvalues_from_object\u001b[0m\u001b[1;33m(\u001b[0m\u001b[0mkey\u001b[0m\u001b[1;33m)\u001b[0m\u001b[1;33m\u001b[0m\u001b[1;33m\u001b[0m\u001b[0m\n\u001b[1;32m-> 3940\u001b[1;33m         \u001b[0mresult\u001b[0m \u001b[1;33m=\u001b[0m \u001b[0mgetitem\u001b[0m\u001b[1;33m(\u001b[0m\u001b[0mkey\u001b[0m\u001b[1;33m)\u001b[0m\u001b[1;33m\u001b[0m\u001b[1;33m\u001b[0m\u001b[0m\n\u001b[0m\u001b[0;32m   3941\u001b[0m         \u001b[1;32mif\u001b[0m \u001b[1;32mnot\u001b[0m \u001b[0mis_scalar\u001b[0m\u001b[1;33m(\u001b[0m\u001b[0mresult\u001b[0m\u001b[1;33m)\u001b[0m\u001b[1;33m:\u001b[0m\u001b[1;33m\u001b[0m\u001b[1;33m\u001b[0m\u001b[0m\n\u001b[0;32m   3942\u001b[0m             \u001b[1;32mif\u001b[0m \u001b[0mnp\u001b[0m\u001b[1;33m.\u001b[0m\u001b[0mndim\u001b[0m\u001b[1;33m(\u001b[0m\u001b[0mresult\u001b[0m\u001b[1;33m)\u001b[0m \u001b[1;33m>\u001b[0m \u001b[1;36m1\u001b[0m\u001b[1;33m:\u001b[0m\u001b[1;33m\u001b[0m\u001b[1;33m\u001b[0m\u001b[0m\n",
      "\u001b[1;31mIndexError\u001b[0m: boolean index did not match indexed array along dimension 0; dimension is 95 but corresponding boolean dimension is 322"
     ]
    }
   ],
   "source": [
    "deaths.loc[:, deaths.index[(deaths > 100).any()]]"
   ]
  },
  {
   "cell_type": "code",
   "execution_count": 26,
   "metadata": {},
   "outputs": [
    {
     "data": {
      "text/plain": [
       "Country_Region      Province_State    \n",
       "Afghanistan         Afghanistan           3/22/20\n",
       "Albania             Albania               3/11/20\n",
       "Algeria             Algeria               3/12/20\n",
       "Andorra             Andorra               3/22/20\n",
       "Angola              Angola                3/29/20\n",
       "                                           ...   \n",
       "West Bank and Gaza  West Bank and Gaza    3/26/20\n",
       "Western Sahara      Western Sahara        1/22/20\n",
       "Yemen               Yemen                 1/22/20\n",
       "Zambia              Zambia                 4/2/20\n",
       "Zimbabwe            Zimbabwe              3/23/20\n",
       "Length: 322, dtype: object"
      ]
     },
     "execution_count": 26,
     "metadata": {},
     "output_type": "execute_result"
    }
   ],
   "source": [
    "(deaths > 0).astype(np.uint8).idxmax()"
   ]
  },
  {
   "cell_type": "code",
   "execution_count": 13,
   "metadata": {},
   "outputs": [],
   "source": [
    "cty_reg_qry = [('Spain', 'Spain'), ('Italy', 'Italy')]\n",
    "df_qry = deaths.loc[:, cty_reg_qry]"
   ]
  },
  {
   "cell_type": "code",
   "execution_count": 14,
   "metadata": {},
   "outputs": [
    {
     "data": {
      "text/html": [
       "<div>\n",
       "<style scoped>\n",
       "    .dataframe tbody tr th:only-of-type {\n",
       "        vertical-align: middle;\n",
       "    }\n",
       "\n",
       "    .dataframe tbody tr th {\n",
       "        vertical-align: top;\n",
       "    }\n",
       "\n",
       "    .dataframe thead tr th {\n",
       "        text-align: left;\n",
       "    }\n",
       "</style>\n",
       "<table border=\"1\" class=\"dataframe\">\n",
       "  <thead>\n",
       "    <tr>\n",
       "      <th>Country_Region</th>\n",
       "      <th>Spain</th>\n",
       "      <th>Italy</th>\n",
       "    </tr>\n",
       "    <tr>\n",
       "      <th>Province_State</th>\n",
       "      <th>Spain</th>\n",
       "      <th>Italy</th>\n",
       "    </tr>\n",
       "  </thead>\n",
       "  <tbody>\n",
       "    <tr>\n",
       "      <th>1/22/20</th>\n",
       "      <td>0</td>\n",
       "      <td>0</td>\n",
       "    </tr>\n",
       "    <tr>\n",
       "      <th>1/23/20</th>\n",
       "      <td>0</td>\n",
       "      <td>0</td>\n",
       "    </tr>\n",
       "    <tr>\n",
       "      <th>1/24/20</th>\n",
       "      <td>0</td>\n",
       "      <td>0</td>\n",
       "    </tr>\n",
       "    <tr>\n",
       "      <th>1/25/20</th>\n",
       "      <td>0</td>\n",
       "      <td>0</td>\n",
       "    </tr>\n",
       "    <tr>\n",
       "      <th>1/26/20</th>\n",
       "      <td>0</td>\n",
       "      <td>0</td>\n",
       "    </tr>\n",
       "    <tr>\n",
       "      <th>...</th>\n",
       "      <td>...</td>\n",
       "      <td>...</td>\n",
       "    </tr>\n",
       "    <tr>\n",
       "      <th>4/21/20</th>\n",
       "      <td>21282</td>\n",
       "      <td>24648</td>\n",
       "    </tr>\n",
       "    <tr>\n",
       "      <th>4/22/20</th>\n",
       "      <td>21717</td>\n",
       "      <td>25085</td>\n",
       "    </tr>\n",
       "    <tr>\n",
       "      <th>4/23/20</th>\n",
       "      <td>22157</td>\n",
       "      <td>25549</td>\n",
       "    </tr>\n",
       "    <tr>\n",
       "      <th>4/24/20</th>\n",
       "      <td>22524</td>\n",
       "      <td>25969</td>\n",
       "    </tr>\n",
       "    <tr>\n",
       "      <th>4/25/20</th>\n",
       "      <td>22902</td>\n",
       "      <td>26384</td>\n",
       "    </tr>\n",
       "  </tbody>\n",
       "</table>\n",
       "<p>95 rows × 2 columns</p>\n",
       "</div>"
      ],
      "text/plain": [
       "Country_Region  Spain  Italy\n",
       "Province_State  Spain  Italy\n",
       "1/22/20             0      0\n",
       "1/23/20             0      0\n",
       "1/24/20             0      0\n",
       "1/25/20             0      0\n",
       "1/26/20             0      0\n",
       "...               ...    ...\n",
       "4/21/20         21282  24648\n",
       "4/22/20         21717  25085\n",
       "4/23/20         22157  25549\n",
       "4/24/20         22524  25969\n",
       "4/25/20         22902  26384\n",
       "\n",
       "[95 rows x 2 columns]"
      ]
     },
     "execution_count": 14,
     "metadata": {},
     "output_type": "execute_result"
    }
   ],
   "source": [
    "df_qry"
   ]
  },
  {
   "cell_type": "code",
   "execution_count": 7,
   "metadata": {},
   "outputs": [
    {
     "data": {
      "text/plain": [
       "1/22/20    False\n",
       "1/23/20    False\n",
       "1/24/20    False\n",
       "1/25/20    False\n",
       "1/26/20    False\n",
       "           ...  \n",
       "4/21/20     True\n",
       "4/22/20     True\n",
       "4/23/20     True\n",
       "4/24/20     True\n",
       "4/25/20     True\n",
       "Name: (US, US), Length: 95, dtype: bool"
      ]
     },
     "execution_count": 7,
     "metadata": {},
     "output_type": "execute_result"
    }
   ],
   "source": [
    "deaths.loc[('US', 'US')] > 0"
   ]
  },
  {
   "cell_type": "code",
   "execution_count": 68,
   "metadata": {},
   "outputs": [
    {
     "data": {
      "text/plain": [
       "<matplotlib.axes._subplots.AxesSubplot at 0x293e3b6d1d0>"
      ]
     },
     "execution_count": 68,
     "metadata": {},
     "output_type": "execute_result"
    },
    {
     "data": {
      "image/png": "[encoded data removed]",
      "text/plain": [
       "<Figure size 432x288 with 1 Axes>"
      ]
     },
     "metadata": {
      "needs_background": "light"
     },
     "output_type": "display_data"
    }
   ],
   "source": [
    "confirmed.loc[('Mexico', 'Mexico')].diff().plot()"
   ]
  },
  {
   "cell_type": "code",
   "execution_count": null,
   "metadata": {},
   "outputs": [],
   "source": []
  }
 ],
 "metadata": {
  "kernelspec": {
   "display_name": "py36",
   "language": "python",
   "name": "py36"
  },
  "language_info": {
   "codemirror_mode": {
    "name": "ipython",
    "version": 3
   },
   "file_extension": ".py",
   "mimetype": "text/x-python",
   "name": "python",
   "nbconvert_exporter": "python",
   "pygments_lexer": "ipython3",
   "version": "3.6.10"
  }
 },
 "nbformat": 4,
 "nbformat_minor": 4
}

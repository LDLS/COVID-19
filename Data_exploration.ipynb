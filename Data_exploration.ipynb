{
 "cells": [
  {
   "cell_type": "code",
   "execution_count": 1,
   "metadata": {},
   "outputs": [
    {
     "name": "stdout",
     "output_type": "stream",
     "text": [
      "CPU times: user 2.33 s, sys: 681 ms, total: 3.01 s\n",
      "Wall time: 8.78 s\n"
     ]
    }
   ],
   "source": [
    "%%time\n",
    "from pathlib import Path\n",
    "import numpy as np\n",
    "import pandas as pd\n",
    "from matplotlib import pyplot as plt\n",
    "import seaborn as sns\n",
    "import gc\n",
    "\n",
    "project_dir = Path()\n",
    "ts_dir = project_dir / 'csse_covid_19_data/csse_covid_19_time_series/'\n",
    "\n",
    "confirmed_ts_fn = {f.stem.split('_')[-1] + '_' + 'confirmed': \n",
    "                   f for f in ts_dir.rglob(\"*.csv\") if 'confirmed' in str(f)}\n",
    "deaths_ts_fn = {f.stem.split('_')[-1]+ '_' + 'deaths':\n",
    "                f for f in ts_dir.rglob(\"*.csv\") if 'deaths' in str(f)}\n",
    "ts_fn = {**confirmed_ts_fn, **deaths_ts_fn}\n",
    "\n",
    "ts = {k: pd.read_csv(v) for k, v in ts_fn.items()}\n",
    "rename_col_map = {'Province/State': 'Province_State',\n",
    "                  'Country/Region': 'Country_Region'}\n",
    "ts = {k: v.rename(mapper=rename_col_map, axis=1) for k, v in ts.items()}\n",
    "\n",
    "def get_date_cols(df, cols_keep):\n",
    "    cols = df.columns\n",
    "    date_qry = cols.str.match(r'\\d+/\\d+/\\d+')\n",
    "    date_cols = cols[date_qry]\n",
    "    return df[cols_keep + date_cols.tolist()]\n",
    "\n",
    "ts = {k: get_date_cols(v, ['Country_Region', 'Province_State']) for k, v in ts.items()}\n",
    "\n",
    "def fill_state(df):\n",
    "    df['Province_State'] = df['Province_State'].fillna(df['Country_Region'])\n",
    "    return df\n",
    "\n",
    "ts = {k: fill_state(v) for k, v in ts.items()}\n",
    "ts = {k: v.groupby(['Country_Region', 'Province_State']).sum() for k, v in ts.items()}\n",
    "\n",
    "confirmed = pd.concat([v for k, v in ts.items() if 'confirmed' in k]).sort_index().T\n",
    "deaths = pd.concat([v for k, v in ts.items() if 'deaths' in k]).sort_index().T\n",
    "del ts\n",
    "gc.collect()\n",
    "\n",
    "def align_start(x, thresh):\n",
    "    x = x[x > thresh]\n",
    "    x_nan = x[x.isna()].values\n",
    "    x_vals = x.dropna().values\n",
    "    x = pd.Series(np.hstack([x_vals, x_nan]))\n",
    "    return x\n",
    "\n",
    "deaths_align = deaths.apply(lambda x: align_start(x, thresh=100))\n",
    "confirmed_align = confirmed.apply(lambda x: align_start(x, thresh=100))"
   ]
  },
  {
   "cell_type": "code",
   "execution_count": 73,
   "metadata": {},
   "outputs": [],
   "source": [
    "cty_reg_qry = [('US', 'Florida'), ('US', 'Texas')]\n",
    "df_qry = deaths_align.loc[:, cty_reg_qry]\n",
    "df_qry.dropna(axis=0, how='all', inplace=True)\n",
    "df_qry.plot()\n",
    "df_qry.diff().plot(kind='bar')"
   ]
  },
  {
   "cell_type": "code",
   "execution_count": 85,
   "metadata": {
    "scrolled": true
   },
   "outputs": [
    {
     "data": {
      "text/plain": [
       "<matplotlib.axes._subplots.AxesSubplot at 0x7f434941c208>"
      ]
     },
     "execution_count": 85,
     "metadata": {},
     "output_type": "execute_result"
    },
    {
     "data": {
      "image/png": "[encoded data removed]",
      "text/plain": [
       "<Figure size 432x288 with 1 Axes>"
      ]
     },
     "metadata": {
      "needs_background": "light"
     },
     "output_type": "display_data"
    }
   ],
   "source": [
    "cty_reg_qry = [('US', 'US')]\n",
    "\n",
    "window = 7\n",
    "\n",
    "cty_reg_qry_legend = cty_reg_qry[0][0]\n",
    "dd_qry = deaths_align.loc[:, cty_reg_qry].diff().dropna()\n",
    "\n",
    "dd_qry.columns = [f'daily, {cty_reg_qry_legend}']\n",
    "dd_roll_qry = dd_qry.rolling(window=window).mean()\n",
    "dd_roll_qry.columns = [f'{window}-day average']\n",
    "\n",
    "ax = dd_qry.plot(kind='bar')\n",
    "dd_roll_qry.plot(ax=ax, color='red')"
   ]
  }
 ],
 "metadata": {
  "kernelspec": {
   "display_name": "ir-models",
   "language": "python",
   "name": "ir-models"
  },
  "language_info": {
   "codemirror_mode": {
    "name": "ipython",
    "version": 3
   },
   "file_extension": ".py",
   "mimetype": "text/x-python",
   "name": "python",
   "nbconvert_exporter": "python",
   "pygments_lexer": "ipython3",
   "version": "3.6.9"
  }
 },
 "nbformat": 4,
 "nbformat_minor": 4
}
